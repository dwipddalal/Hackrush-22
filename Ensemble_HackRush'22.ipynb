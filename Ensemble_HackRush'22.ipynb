{
  "nbformat": 4,
  "nbformat_minor": 0,
  "metadata": {
    "colab": {
      "name": "Ensemble_HackRush'22.ipynb",
      "provenance": [],
      "collapsed_sections": []
    },
    "kernelspec": {
      "name": "python3",
      "display_name": "Python 3"
    },
    "language_info": {
      "name": "python"
    },
    "accelerator": "GPU"
  },
  "cells": [
    {
      "cell_type": "code",
      "execution_count": null,
      "metadata": {
        "colab": {
          "base_uri": "https://localhost:8080/"
        },
        "id": "iUFijN_X3ztj",
        "outputId": "b68a9189-77bc-472e-8ceb-6c8ddad11d80"
      },
      "outputs": [
        {
          "output_type": "stream",
          "name": "stdout",
          "text": [
            "   Id       Timestep   Course                Faculty  Expected\n",
            "0   0  AY1810-AY1811  VX27870      Prof. Jadon Haney       386\n",
            "1   1  AY1810-AY1811  SN11041  Prof. Kennedy Shields       158\n",
            "2   2  AY1810-AY1811  CG17623    Prof. Brandon Silva       303\n",
            "3   3  AY1810-AY1811  GW27856      Prof. Lorena Mays       207\n",
            "4   4  AY1810-AY1811  SI10212   Prof. Haleigh Romero       329\n"
          ]
        }
      ],
      "source": [
        "import pandas as pd\n",
        "\n",
        "df = pd.read_csv('/content/drive/Shareddrives/hack22/hack22/train.csv')\n",
        "df_2 = pd.read_csv('/content/drive/Shareddrives/hack22/hack22/test.csv')\n",
        "print(df.head())"
      ]
    },
    {
      "cell_type": "code",
      "source": [
        "# from google.colab import drive\n",
        "# drive.mount('/content/drive')"
      ],
      "metadata": {
        "id": "hxApUo2KVkbP"
      },
      "execution_count": null,
      "outputs": []
    },
    {
      "cell_type": "code",
      "source": [
        "len(df.Course.unique())\n",
        "# Courses=656, Timestep=177, Faculty=560, "
      ],
      "metadata": {
        "colab": {
          "base_uri": "https://localhost:8080/"
        },
        "id": "a4LRcRIX5ZQ8",
        "outputId": "e8668915-86bf-44b5-b57c-1157579c9c22"
      },
      "execution_count": null,
      "outputs": [
        {
          "output_type": "execute_result",
          "data": {
            "text/plain": [
              "656"
            ]
          },
          "metadata": {},
          "execution_count": 4
        }
      ]
    },
    {
      "cell_type": "code",
      "source": [
        "len(df.Timestep.unique())"
      ],
      "metadata": {
        "colab": {
          "base_uri": "https://localhost:8080/"
        },
        "id": "PcSEwUnr6vCI",
        "outputId": "80041d60-db67-49ab-d3db-fc249ac4de8f"
      },
      "execution_count": null,
      "outputs": [
        {
          "output_type": "execute_result",
          "data": {
            "text/plain": [
              "177"
            ]
          },
          "metadata": {},
          "execution_count": 5
        }
      ]
    },
    {
      "cell_type": "code",
      "source": [
        "len(df.Faculty.unique())"
      ],
      "metadata": {
        "colab": {
          "base_uri": "https://localhost:8080/"
        },
        "id": "x4w5sYsh62O1",
        "outputId": "c4058350-0718-4ca9-de35-431dc443b02c"
      },
      "execution_count": null,
      "outputs": [
        {
          "output_type": "execute_result",
          "data": {
            "text/plain": [
              "560"
            ]
          },
          "metadata": {},
          "execution_count": 6
        }
      ]
    },
    {
      "cell_type": "code",
      "source": [
        "len(df.Expected.unique())"
      ],
      "metadata": {
        "colab": {
          "base_uri": "https://localhost:8080/"
        },
        "id": "PEPp-03u7ISU",
        "outputId": "de953445-144e-43a0-9cb3-dd034487e9e1"
      },
      "execution_count": null,
      "outputs": [
        {
          "output_type": "execute_result",
          "data": {
            "text/plain": [
              "1320"
            ]
          },
          "metadata": {},
          "execution_count": 7
        }
      ]
    },
    {
      "cell_type": "code",
      "source": [
        "df['Id'].value_counts()"
      ],
      "metadata": {
        "colab": {
          "base_uri": "https://localhost:8080/"
        },
        "id": "IhocavWt7tg6",
        "outputId": "950a3fdf-6188-455b-e80d-4ba52e0f5ed7"
      },
      "execution_count": null,
      "outputs": [
        {
          "output_type": "execute_result",
          "data": {
            "text/plain": [
              "0        1\n",
              "59997    1\n",
              "60005    1\n",
              "60004    1\n",
              "60003    1\n",
              "        ..\n",
              "29998    1\n",
              "29997    1\n",
              "29996    1\n",
              "29995    1\n",
              "89999    1\n",
              "Name: Id, Length: 90000, dtype: int64"
            ]
          },
          "metadata": {},
          "execution_count": 8
        }
      ]
    },
    {
      "cell_type": "code",
      "source": [
        "df.plot(x='Timestep', y='Expected')"
      ],
      "metadata": {
        "colab": {
          "base_uri": "https://localhost:8080/",
          "height": 297
        },
        "id": "znPadIKh_T3W",
        "outputId": "a4d2d08b-419f-44aa-c610-d4585444d18b"
      },
      "execution_count": null,
      "outputs": [
        {
          "output_type": "execute_result",
          "data": {
            "text/plain": [
              "<matplotlib.axes._subplots.AxesSubplot at 0x7fa20e5d6610>"
            ]
          },
          "metadata": {},
          "execution_count": 9
        },
        {
          "output_type": "display_data",
          "data": {
            "text/plain": [
              "<Figure size 432x288 with 1 Axes>"
            ],
            "image/png": "[encoded data removed]"
          },
          "metadata": {
            "needs_background": "light"
          }
        }
      ]
    },
    {
      "cell_type": "code",
      "source": [
        "X_train=df['Timestep']\n",
        "Y_train=df['Expected']\n",
        "X_test=df_2['Timestep']\n",
        "X_new=[None]*90000\n",
        "X_test_new=[None]*10000\n",
        "Y_without_one=[None]*90000\n"
      ],
      "metadata": {
        "id": "jEY5HGYCBHY7"
      },
      "execution_count": null,
      "outputs": []
    },
    {
      "cell_type": "code",
      "source": [
        "for i in range(len(X_train)):\n",
        "  X_new[i]=int(X_train[i][2:6])\n",
        "for i in range(len(X_test)):\n",
        "  X_test_new[i]=int(X_test[i][2:6])\n",
        "# for i in range(len(Y)):\n",
        "#   if Y[i]<=2:\n",
        "#     Y_without_one[i]=3\n",
        "#   else:\n",
        "#     Y_without_one[i]=Y[i]\n",
        "# Y_without_one_train=Y_without_one[:81000]\n",
        "# Y_without_one_test=Y_without_one[81000:]"
      ],
      "metadata": {
        "id": "q0f2sLOpB_Af"
      },
      "execution_count": null,
      "outputs": []
    },
    {
      "cell_type": "code",
      "source": [
        "df['new_timestep']=X_new\n",
        "df_2['new_timestep']=X_test_new"
      ],
      "metadata": {
        "id": "BH1J8O9kCMS_"
      },
      "execution_count": null,
      "outputs": []
    },
    {
      "cell_type": "code",
      "source": [
        "import numpy as np\n",
        "mean=np.mean(X_new)\n",
        "sd=np.std(X_new)\n",
        "X_normalized=[None]*90000\n",
        "X_normalized_test=[None]*10000\n",
        "for i in range(len(X_new)):\n",
        "  X_normalized[i]=(X_new[i]-mean)/(sd)\n",
        "for i in range(len(X_test_new)):\n",
        "  X_normalized_test[i]=(X_test_new[i]-mean)/(sd)\n",
        "\n",
        "\n"
      ],
      "metadata": {
        "id": "FDghgaY9F3Vf"
      },
      "execution_count": null,
      "outputs": []
    },
    {
      "cell_type": "markdown",
      "source": [
        "Normalization of train\n"
      ],
      "metadata": {
        "id": "PUAS-SIxPbUm"
      }
    },
    {
      "cell_type": "code",
      "source": [
        "df['norm_time']=X_normalized\n",
        "df_2['norm_time']=X_normalized_test"
      ],
      "metadata": {
        "id": "OBbIMOVlJJ8o"
      },
      "execution_count": null,
      "outputs": []
    },
    {
      "cell_type": "code",
      "source": [
        "X_normalized_train=np.asarray(X_normalized)\n",
        "X_normalized_test=np.asarray(X_normalized_test)\n",
        "# X_normalized_train=X_normalized_array[:81000]\n",
        "# X_normalized_test=X_normalized_array[81000:]"
      ],
      "metadata": {
        "id": "LTzt--ynN2WJ"
      },
      "execution_count": null,
      "outputs": []
    },
    {
      "cell_type": "code",
      "source": [
        "X_normalized_train.resize(90000,1)\n",
        "X_normalized_test.resize(10000,1)"
      ],
      "metadata": {
        "id": "jCwUG4WsOq1w"
      },
      "execution_count": null,
      "outputs": []
    },
    {
      "cell_type": "code",
      "source": [
        "X_new=df['new_timestep']\n",
        "df.tail()\n",
        "from sklearn.preprocessing import LabelBinarizer\n",
        "le=LabelBinarizer()\n",
        "X_Course_train = le.fit_transform(df.Course)\n",
        "X_Course_test = le.transform(df_2.Course)\n",
        "from sklearn.preprocessing import LabelBinarizer\n",
        "le2=LabelBinarizer()\n",
        "X_Faculty_train = le2.fit_transform(df.Faculty)\n",
        "X_Faculty_test = le2.transform(df_2.Faculty)"
      ],
      "metadata": {
        "id": "0RPvi5pVF29k"
      },
      "execution_count": null,
      "outputs": []
    },
    {
      "cell_type": "code",
      "source": [
        "import numpy as np\n",
        "  \n",
        "arr1 = np.array(X_Course_train)\n",
        "arr2 = np.array(X_Faculty_train)\n",
        "arr3 = np.array(X_normalized_train)\n",
        "  \n",
        "X_combined_train = np.concatenate((arr1, arr2), axis = 1)\n",
        "for i in range(5):\n",
        "  X_combined_train=np.concatenate((arr3,X_combined_train,arr3),axis=1)\n",
        "\n",
        "ar1 = np.array(X_Course_test)\n",
        "ar2 = np.array(X_Faculty_test)\n",
        "ar3 = np.array(X_normalized_test)\n",
        "  \n",
        "X_combined_test = np.concatenate((ar1, ar2), axis = 1)\n",
        "for i in range(5):\n",
        "  X_combined_test=np.concatenate((ar3,X_combined_test,ar3),axis=1)"
      ],
      "metadata": {
        "id": "NAYS3dJbudgG"
      },
      "execution_count": null,
      "outputs": []
    },
    {
      "cell_type": "code",
      "source": [
        "X_combined_test_dash = X_combined_test"
      ],
      "metadata": {
        "id": "Mi45H-zaEAS-"
      },
      "execution_count": null,
      "outputs": []
    },
    {
      "cell_type": "code",
      "source": [
        "X_combined_test = X_combined_train[80000:84000]\n",
        "Y_test = Y_train[80000:84000]"
      ],
      "metadata": {
        "id": "lL6rYstbRL3r"
      },
      "execution_count": null,
      "outputs": []
    },
    {
      "cell_type": "code",
      "source": [
        "from google.colab import drive\n",
        "drive.mount('/content/drive')"
      ],
      "metadata": {
        "colab": {
          "base_uri": "https://localhost:8080/"
        },
        "id": "QuxE6qL8aCSv",
        "outputId": "79196a8c-fc9c-45ba-c85f-da49d7e930a3"
      },
      "execution_count": null,
      "outputs": [
        {
          "output_type": "stream",
          "name": "stdout",
          "text": [
            "Drive already mounted at /content/drive; to attempt to forcibly remount, call drive.mount(\"/content/drive\", force_remount=True).\n"
          ]
        }
      ]
    },
    {
      "cell_type": "code",
      "source": [
        "X_combined_train = X_combined_train[86000:90000]\n",
        "Y_train = Y_train[86000:90000]\n"
      ],
      "metadata": {
        "id": "PjUH_cskiT6m"
      },
      "execution_count": null,
      "outputs": []
    },
    {
      "cell_type": "code",
      "source": [
        ""
      ],
      "metadata": {
        "id": "LcTjdfr-Bj0d"
      },
      "execution_count": null,
      "outputs": []
    },
    {
      "cell_type": "code",
      "source": [
        "X_combined_test"
      ],
      "metadata": {
        "colab": {
          "base_uri": "https://localhost:8080/"
        },
        "id": "GBrPd1p-Bxgq",
        "outputId": "b9539329-c44d-4ff5-b2b1-8dbadae85a56"
      },
      "execution_count": null,
      "outputs": [
        {
          "output_type": "execute_result",
          "data": {
            "text/plain": [
              "array([[1.33806457, 1.33806457, 1.33806457, ..., 1.33806457, 1.33806457,\n",
              "        1.33806457],\n",
              "       [1.33806457, 1.33806457, 1.33806457, ..., 1.33806457, 1.33806457,\n",
              "        1.33806457],\n",
              "       [1.33806457, 1.33806457, 1.33806457, ..., 1.33806457, 1.33806457,\n",
              "        1.33806457],\n",
              "       ...,\n",
              "       [1.49517582, 1.49517582, 1.49517582, ..., 1.49517582, 1.49517582,\n",
              "        1.49517582],\n",
              "       [1.49517582, 1.49517582, 1.49517582, ..., 1.49517582, 1.49517582,\n",
              "        1.49517582],\n",
              "       [1.49517582, 1.49517582, 1.49517582, ..., 1.49517582, 1.49517582,\n",
              "        1.49517582]])"
            ]
          },
          "metadata": {},
          "execution_count": 23
        }
      ]
    },
    {
      "cell_type": "code",
      "source": [
        "path = \"/content/drive/Shareddrives/hack22/hack22/\""
      ],
      "metadata": {
        "id": "YcAe9749yTax"
      },
      "execution_count": null,
      "outputs": []
    },
    {
      "cell_type": "code",
      "source": [
        "import pickle"
      ],
      "metadata": {
        "id": "uWR8ZiaR0-fc"
      },
      "execution_count": null,
      "outputs": []
    },
    {
      "cell_type": "code",
      "source": [
        "member = []"
      ],
      "metadata": {
        "id": "C2LZhfFyy8eP"
      },
      "execution_count": null,
      "outputs": []
    },
    {
      "cell_type": "code",
      "source": [
        "with open(path + 'linear_3.sav', 'rb') as file:  \n",
        "    print(file)\n",
        "    model1 = pickle.load(file)\n",
        "\n",
        "print(model1)\n",
        "member.append(model1)\n",
        "array1 = model1.predict(X_combined_train)"
      ],
      "metadata": {
        "id": "x2r5ehca0Wk0",
        "colab": {
          "base_uri": "https://localhost:8080/"
        },
        "outputId": "e94d5834-a42d-4497-b01e-2d8b5a72cc51"
      },
      "execution_count": null,
      "outputs": [
        {
          "output_type": "stream",
          "name": "stdout",
          "text": [
            "<_io.BufferedReader name='/content/drive/Shareddrives/hack22/hack22/linear_3.sav'>\n",
            "LinearRegression()\n"
          ]
        }
      ]
    },
    {
      "cell_type": "code",
      "source": [
        "with open(path + 'lin.sav', 'rb') as file:  \n",
        "    model2 = pickle.load(file)\n",
        "\n",
        "print(model2)\n",
        "member.append(model2)\n",
        "array2 = model2.predict(X_combined_train)"
      ],
      "metadata": {
        "id": "rnfo1IdnzNwu",
        "colab": {
          "base_uri": "https://localhost:8080/"
        },
        "outputId": "21c82b64-0053-45f1-fc01-20657735c459"
      },
      "execution_count": null,
      "outputs": [
        {
          "output_type": "stream",
          "name": "stdout",
          "text": [
            "LinearRegression()\n"
          ]
        }
      ]
    },
    {
      "cell_type": "code",
      "source": [
        "with open(path + 'other_linear.sav', 'rb') as file:  \n",
        "    model3= pickle.load(file)\n",
        "\n",
        "print(model3)\n",
        "member.append(model3)\n",
        "array3 = model3.predict(X_combined_train)"
      ],
      "metadata": {
        "colab": {
          "base_uri": "https://localhost:8080/"
        },
        "id": "gOTeLwIU5w8c",
        "outputId": "8cf540bc-7740-432f-efa0-90c886f7bfe9"
      },
      "execution_count": null,
      "outputs": [
        {
          "output_type": "stream",
          "name": "stdout",
          "text": [
            "LinearRegression()\n"
          ]
        }
      ]
    },
    {
      "cell_type": "code",
      "source": [
        "with open(path + 'soft.sav', 'rb') as file:  \n",
        "    model4= pickle.load(file)\n",
        "\n",
        "print(model4)\n",
        "member.append(model4)\n",
        "array4 = model4.predict(X_combined_train)"
      ],
      "metadata": {
        "id": "KOO1sWIVhwbE",
        "colab": {
          "base_uri": "https://localhost:8080/"
        },
        "outputId": "1069469a-275c-44ad-afa1-23b423f9095c"
      },
      "execution_count": null,
      "outputs": [
        {
          "output_type": "stream",
          "name": "stdout",
          "text": [
            "VotingRegressor(estimators=[('sgd',\n",
            "                             Pipeline(steps=[('standardscaler',\n",
            "                                              StandardScaler()),\n",
            "                                             ('sgdregressor',\n",
            "                                              SGDRegressor())])),\n",
            "                            ('lin', LinearRegression())])\n"
          ]
        }
      ]
    },
    {
      "cell_type": "code",
      "source": [
        "with open(path + 'soft3.sav', 'rb') as file:  \n",
        "    model5= pickle.load(file)\n",
        "\n",
        "print(model5)\n",
        "member.append(model5)\n",
        "array5 = model5.predict(X_combined_train)"
      ],
      "metadata": {
        "colab": {
          "base_uri": "https://localhost:8080/"
        },
        "id": "TLkaLuemakUu",
        "outputId": "437af411-87d0-4e85-d711-885d50fde5d6"
      },
      "execution_count": null,
      "outputs": [
        {
          "output_type": "stream",
          "name": "stdout",
          "text": [
            "VotingRegressor(estimators=[('sgd',\n",
            "                             Pipeline(steps=[('standardscaler',\n",
            "                                              StandardScaler()),\n",
            "                                             ('sgdregressor',\n",
            "                                              SGDRegressor())])),\n",
            "                            ('lin', LinearRegression())])\n"
          ]
        }
      ]
    },
    {
      "cell_type": "code",
      "source": [
        "with open(path + 'soft3.sav', 'rb') as file:  \n",
        "    model6= pickle.load(file)\n",
        "\n",
        "print(model6)\n",
        "member.append(model6)\n",
        "array6 = model6.predict(X_combined_train)"
      ],
      "metadata": {
        "colab": {
          "base_uri": "https://localhost:8080/"
        },
        "id": "oF_pjExMcgTp",
        "outputId": "f15a8d0f-08a9-4a16-8d92-c048b2b1bc34"
      },
      "execution_count": null,
      "outputs": [
        {
          "output_type": "stream",
          "name": "stdout",
          "text": [
            "VotingRegressor(estimators=[('sgd',\n",
            "                             Pipeline(steps=[('standardscaler',\n",
            "                                              StandardScaler()),\n",
            "                                             ('sgdregressor',\n",
            "                                              SGDRegressor())])),\n",
            "                            ('lin', LinearRegression())])\n"
          ]
        }
      ]
    },
    {
      "cell_type": "code",
      "source": [
        "array1_t = model1.predict(X_combined_test)\n",
        "array2_t = model2.predict(X_combined_test)\n",
        "array3_t = model3.predict(X_combined_test)\n",
        "array4_t = model4.predict(X_combined_test)\n",
        "array5_t = model5.predict(X_combined_test)\n",
        "array6_t = model6.predict(X_combined_test)"
      ],
      "metadata": {
        "id": "f_Ruf72cBOcU"
      },
      "execution_count": null,
      "outputs": []
    },
    {
      "cell_type": "code",
      "source": [
        "data = np.array([array1.flatten(), array2.flatten(), array3.flatten(), array4.flatten(), array5.flatten(),array6.flatten()])\n",
        "df = pd.DataFrame(data=data)\n",
        "df = df.T"
      ],
      "metadata": {
        "id": "HIFCXo1PeJd3"
      },
      "execution_count": null,
      "outputs": []
    },
    {
      "cell_type": "code",
      "source": [
        "df.head()"
      ],
      "metadata": {
        "colab": {
          "base_uri": "https://localhost:8080/",
          "height": 206
        },
        "id": "WN69wjs86yGJ",
        "outputId": "7fcdeca1-4a52-411c-ed4d-be64e4144beb"
      },
      "execution_count": null,
      "outputs": [
        {
          "output_type": "execute_result",
          "data": {
            "text/plain": [
              "            0          1        2           3           4           5\n",
              "0  377.203125  375.34375  380.000  376.816825  369.208299  369.208299\n",
              "1  603.703125  601.84375  605.750  610.572430  603.092418  603.092418\n",
              "2  958.703125  963.46875  962.125  964.552035  966.821598  966.821598\n",
              "3  746.703125  746.34375  745.000  743.267427  750.087826  750.087826\n",
              "4  913.703125  913.34375  921.000  915.460116  910.118526  910.118526"
            ],
            "text/html": [
              "\n",
              "  <div id=\"df-abddb035-5575-45c9-bb23-f5903e623dbd\">\n",
              "    <div class=\"colab-df-container\">\n",
              "      <div>\n",
              "<style scoped>\n",
              "    .dataframe tbody tr th:only-of-type {\n",
              "        vertical-align: middle;\n",
              "    }\n",
              "\n",
              "    .dataframe tbody tr th {\n",
              "        vertical-align: top;\n",
              "    }\n",
              "\n",
              "    .dataframe thead th {\n",
              "        text-align: right;\n",
              "    }\n",
              "</style>\n",
              "<table border=\"1\" class=\"dataframe\">\n",
              "  <thead>\n",
              "    <tr style=\"text-align: right;\">\n",
              "      <th></th>\n",
              "      <th>0</th>\n",
              "      <th>1</th>\n",
              "      <th>2</th>\n",
              "      <th>3</th>\n",
              "      <th>4</th>\n",
              "      <th>5</th>\n",
              "    </tr>\n",
              "  </thead>\n",
              "  <tbody>\n",
              "    <tr>\n",
              "      <th>0</th>\n",
              "      <td>377.203125</td>\n",
              "      <td>375.34375</td>\n",
              "      <td>380.000</td>\n",
              "      <td>376.816825</td>\n",
              "      <td>369.208299</td>\n",
              "      <td>369.208299</td>\n",
              "    </tr>\n",
              "    <tr>\n",
              "      <th>1</th>\n",
              "      <td>603.703125</td>\n",
              "      <td>601.84375</td>\n",
              "      <td>605.750</td>\n",
              "      <td>610.572430</td>\n",
              "      <td>603.092418</td>\n",
              "      <td>603.092418</td>\n",
              "    </tr>\n",
              "    <tr>\n",
              "      <th>2</th>\n",
              "      <td>958.703125</td>\n",
              "      <td>963.46875</td>\n",
              "      <td>962.125</td>\n",
              "      <td>964.552035</td>\n",
              "      <td>966.821598</td>\n",
              "      <td>966.821598</td>\n",
              "    </tr>\n",
              "    <tr>\n",
              "      <th>3</th>\n",
              "      <td>746.703125</td>\n",
              "      <td>746.34375</td>\n",
              "      <td>745.000</td>\n",
              "      <td>743.267427</td>\n",
              "      <td>750.087826</td>\n",
              "      <td>750.087826</td>\n",
              "    </tr>\n",
              "    <tr>\n",
              "      <th>4</th>\n",
              "      <td>913.703125</td>\n",
              "      <td>913.34375</td>\n",
              "      <td>921.000</td>\n",
              "      <td>915.460116</td>\n",
              "      <td>910.118526</td>\n",
              "      <td>910.118526</td>\n",
              "    </tr>\n",
              "  </tbody>\n",
              "</table>\n",
              "</div>\n",
              "      <button class=\"colab-df-convert\" onclick=\"convertToInteractive('df-abddb035-5575-45c9-bb23-f5903e623dbd')\"\n",
              "              title=\"Convert this dataframe to an interactive table.\"\n",
              "              style=\"display:none;\">\n",
              "        \n",
              "  <svg xmlns=\"http://www.w3.org/2000/svg\" height=\"24px\"viewBox=\"0 0 24 24\"\n",
              "       width=\"24px\">\n",
              "    <path d=\"M0 0h24v24H0V0z\" fill=\"none\"/>\n",
              "    <path d=\"M18.56 5.44l.94 2.06.94-2.06 2.06-.94-2.06-.94-.94-2.06-.94 2.06-2.06.94zm-11 1L8.5 8.5l.94-2.06 2.06-.94-2.06-.94L8.5 2.5l-.94 2.06-2.06.94zm10 10l.94 2.06.94-2.06 2.06-.94-2.06-.94-.94-2.06-.94 2.06-2.06.94z\"/><path d=\"M17.41 7.96l-1.37-1.37c-.4-.4-.92-.59-1.43-.59-.52 0-1.04.2-1.43.59L10.3 9.45l-7.72 7.72c-.78.78-.78 2.05 0 2.83L4 21.41c.39.39.9.59 1.41.59.51 0 1.02-.2 1.41-.59l7.78-7.78 2.81-2.81c.8-.78.8-2.07 0-2.86zM5.41 20L4 18.59l7.72-7.72 1.47 1.35L5.41 20z\"/>\n",
              "  </svg>\n",
              "      </button>\n",
              "      \n",
              "  <style>\n",
              "    .colab-df-container {\n",
              "      display:flex;\n",
              "      flex-wrap:wrap;\n",
              "      gap: 12px;\n",
              "    }\n",
              "\n",
              "    .colab-df-convert {\n",
              "      background-color: #E8F0FE;\n",
              "      border: none;\n",
              "      border-radius: 50%;\n",
              "      cursor: pointer;\n",
              "      display: none;\n",
              "      fill: #1967D2;\n",
              "      height: 32px;\n",
              "      padding: 0 0 0 0;\n",
              "      width: 32px;\n",
              "    }\n",
              "\n",
              "    .colab-df-convert:hover {\n",
              "      background-color: #E2EBFA;\n",
              "      box-shadow: 0px 1px 2px rgba(60, 64, 67, 0.3), 0px 1px 3px 1px rgba(60, 64, 67, 0.15);\n",
              "      fill: #174EA6;\n",
              "    }\n",
              "\n",
              "    [theme=dark] .colab-df-convert {\n",
              "      background-color: #3B4455;\n",
              "      fill: #D2E3FC;\n",
              "    }\n",
              "\n",
              "    [theme=dark] .colab-df-convert:hover {\n",
              "      background-color: #434B5C;\n",
              "      box-shadow: 0px 1px 3px 1px rgba(0, 0, 0, 0.15);\n",
              "      filter: drop-shadow(0px 1px 2px rgba(0, 0, 0, 0.3));\n",
              "      fill: #FFFFFF;\n",
              "    }\n",
              "  </style>\n",
              "\n",
              "      <script>\n",
              "        const buttonEl =\n",
              "          document.querySelector('#df-abddb035-5575-45c9-bb23-f5903e623dbd button.colab-df-convert');\n",
              "        buttonEl.style.display =\n",
              "          google.colab.kernel.accessAllowed ? 'block' : 'none';\n",
              "\n",
              "        async function convertToInteractive(key) {\n",
              "          const element = document.querySelector('#df-abddb035-5575-45c9-bb23-f5903e623dbd');\n",
              "          const dataTable =\n",
              "            await google.colab.kernel.invokeFunction('convertToInteractive',\n",
              "                                                     [key], {});\n",
              "          if (!dataTable) return;\n",
              "\n",
              "          const docLinkHtml = 'Like what you see? Visit the ' +\n",
              "            '<a target=\"_blank\" href=https://colab.research.google.com/notebooks/data_table.ipynb>data table notebook</a>'\n",
              "            + ' to learn more about interactive tables.';\n",
              "          element.innerHTML = '';\n",
              "          dataTable['output_type'] = 'display_data';\n",
              "          await google.colab.output.renderOutput(dataTable, element);\n",
              "          const docLink = document.createElement('div');\n",
              "          docLink.innerHTML = docLinkHtml;\n",
              "          element.appendChild(docLink);\n",
              "        }\n",
              "      </script>\n",
              "    </div>\n",
              "  </div>\n",
              "  "
            ]
          },
          "metadata": {},
          "execution_count": 86
        }
      ]
    },
    {
      "cell_type": "code",
      "source": [
        "Y_train"
      ],
      "metadata": {
        "colab": {
          "base_uri": "https://localhost:8080/"
        },
        "id": "ccYRJHzX8hgQ",
        "outputId": "675b36ba-87c7-41cb-d8d5-a374e177391b"
      },
      "execution_count": null,
      "outputs": [
        {
          "output_type": "execute_result",
          "data": {
            "text/plain": [
              "86000     382\n",
              "86001     599\n",
              "86002     942\n",
              "86003     728\n",
              "86004     908\n",
              "         ... \n",
              "89995     476\n",
              "89996     222\n",
              "89997     295\n",
              "89998     187\n",
              "89999    1103\n",
              "Name: Expected, Length: 4000, dtype: int64"
            ]
          },
          "metadata": {},
          "execution_count": 87
        }
      ]
    },
    {
      "cell_type": "code",
      "source": [
        "import tensorflow as tf\n",
        "from tensorflow import keras\n",
        "from tensorflow.keras import layers"
      ],
      "metadata": {
        "id": "bGvInFYm8WKO"
      },
      "execution_count": null,
      "outputs": []
    },
    {
      "cell_type": "code",
      "source": [
        "import tensorflow\n",
        "tensorflow.random.set_seed(1)\n",
        "from tensorflow.python.keras.layers import Dense\n",
        "from tensorflow.keras.layers import Dropout\n",
        "from tensorflow.python.keras.models import Sequential\n",
        "from tensorflow.python.keras.wrappers.scikit_learn import KerasRegressor\n",
        "from sklearn.metrics import mean_absolute_error\n",
        "from sklearn.metrics import mean_squared_error\n",
        "from sklearn.model_selection import train_test_split\n",
        "from sklearn.preprocessing import MinMaxScaler"
      ],
      "metadata": {
        "id": "zA8Usyuo9ljM"
      },
      "execution_count": null,
      "outputs": []
    },
    {
      "cell_type": "code",
      "source": [
        "model = Sequential()\n",
        "model.add(Dense(6, input_dim=6, kernel_initializer='normal', activation='relu'))\n",
        "model.add(Dense(9, activation='relu'))\n",
        "# model.add(Dense(6, activation='relu'))\n",
        "model.add(Dense(1, activation='linear'))\n",
        "model.summary()"
      ],
      "metadata": {
        "colab": {
          "base_uri": "https://localhost:8080/"
        },
        "id": "s8ctVs0z-P98",
        "outputId": "0a593315-f50f-4543-b394-3a1deabb579c"
      },
      "execution_count": null,
      "outputs": [
        {
          "output_type": "stream",
          "name": "stdout",
          "text": [
            "Model: \"sequential_6\"\n",
            "_________________________________________________________________\n",
            "Layer (type)                 Output Shape              Param #   \n",
            "=================================================================\n",
            "dense_21 (Dense)             (None, 6)                 42        \n",
            "_________________________________________________________________\n",
            "dense_22 (Dense)             (None, 9)                 63        \n",
            "_________________________________________________________________\n",
            "dense_23 (Dense)             (None, 1)                 10        \n",
            "=================================================================\n",
            "Total params: 115\n",
            "Trainable params: 115\n",
            "Non-trainable params: 0\n",
            "_________________________________________________________________\n"
          ]
        }
      ]
    },
    {
      "cell_type": "code",
      "source": [
        "model.compile(loss='mse', optimizer='adam', metrics=['mse','mae'])\n",
        "history=model.fit(df, Y_train, epochs=5, batch_size=32, verbose=1)\n",
        "# predictions = model.predict(xval_scale)\n"
      ],
      "metadata": {
        "colab": {
          "base_uri": "https://localhost:8080/"
        },
        "id": "J074F05H-U-e",
        "outputId": "291a56f3-18dd-4bd4-e18d-c50c49430ea8"
      },
      "execution_count": null,
      "outputs": [
        {
          "output_type": "stream",
          "name": "stdout",
          "text": [
            "Epoch 1/5\n",
            "125/125 [==============================] - 1s 2ms/step - loss: 351781.1562 - mse: 351781.1562 - mae: 540.5771\n",
            "Epoch 2/5\n",
            "125/125 [==============================] - 0s 2ms/step - loss: 50393.5898 - mse: 50393.5898 - mae: 171.5352\n",
            "Epoch 3/5\n",
            "125/125 [==============================] - 0s 2ms/step - loss: 249.7299 - mse: 249.7299 - mae: 12.1593\n",
            "Epoch 4/5\n",
            "125/125 [==============================] - 0s 2ms/step - loss: 208.0952 - mse: 208.0952 - mae: 11.3171\n",
            "Epoch 5/5\n",
            "125/125 [==============================] - 0s 2ms/step - loss: 208.0532 - mse: 208.0532 - mae: 11.3150\n"
          ]
        }
      ]
    },
    {
      "cell_type": "code",
      "source": [
        "import matplotlib.pyplot as plt"
      ],
      "metadata": {
        "id": "hO4MsV8Q-xaN"
      },
      "execution_count": null,
      "outputs": []
    },
    {
      "cell_type": "code",
      "source": [
        "data = np.array([array1_t.flatten(), array2_t.flatten(), array3_t.flatten(), array4_t.flatten(),array5_t.flatten(),array6_t.flatten()])\n",
        "df_T = pd.DataFrame(data=data)\n",
        "df_T = df_T.T"
      ],
      "metadata": {
        "id": "OU2W0IwVCJxW"
      },
      "execution_count": null,
      "outputs": []
    },
    {
      "cell_type": "code",
      "source": [
        "predictions = model.predict(df_T)"
      ],
      "metadata": {
        "id": "5_evXCvpCf1a"
      },
      "execution_count": null,
      "outputs": []
    },
    {
      "cell_type": "code",
      "source": [
        "from sklearn.metrics import  mean_squared_error\n",
        "mean_squared_error(Y_test,predictions, squared = False)"
      ],
      "metadata": {
        "colab": {
          "base_uri": "https://localhost:8080/"
        },
        "id": "asJdONZnC-j6",
        "outputId": "d9ac683b-b8bc-4007-f743-1bbb15cb13d1"
      },
      "execution_count": null,
      "outputs": [
        {
          "output_type": "execute_result",
          "data": {
            "text/plain": [
              "21.634064339813946"
            ]
          },
          "metadata": {},
          "execution_count": 99
        }
      ]
    },
    {
      "cell_type": "code",
      "source": [
        "arr_1 = model1.predict(X_combined_test_dash)\n",
        "arr_2 = model2.predict(X_combined_test_dash)\n",
        "arr_3 = model3.predict(X_combined_test_dash)\n",
        "arr_4 = model4.predict(X_combined_test_dash)\n",
        "arr_5 = model4.predict(X_combined_test_dash)\n",
        "\n",
        "arr_6 = model4.predict(X_combined_test_dash)"
      ],
      "metadata": {
        "id": "dM6pR_DSDU6t"
      },
      "execution_count": null,
      "outputs": []
    },
    {
      "cell_type": "code",
      "source": [
        "data = np.array([arr_1.flatten(), arr_2.flatten(), arr_3.flatten(), arr_4.flatten(),arr_5.flatten(),arr_6.flatten()])\n",
        "df_TT = pd.DataFrame(data=data)\n",
        "df_TT = df_TT.T"
      ],
      "metadata": {
        "id": "Q9AYM5VPEpwx"
      },
      "execution_count": null,
      "outputs": []
    },
    {
      "cell_type": "code",
      "source": [
        "predictions = model.predict(df_TT)"
      ],
      "metadata": {
        "id": "JPpFllv_E2uC"
      },
      "execution_count": null,
      "outputs": []
    },
    {
      "cell_type": "code",
      "source": [
        "predictions.resize(10000,)\n",
        "predictions.shape"
      ],
      "metadata": {
        "colab": {
          "base_uri": "https://localhost:8080/"
        },
        "id": "jF8lf_h2E622",
        "outputId": "cb97a92a-95af-44de-f4ee-14aba562530b"
      },
      "execution_count": null,
      "outputs": [
        {
          "output_type": "execute_result",
          "data": {
            "text/plain": [
              "(10000,)"
            ]
          },
          "metadata": {},
          "execution_count": 105
        }
      ]
    },
    {
      "cell_type": "code",
      "source": [
        "ids=df_2['Id']\n",
        "ids=ids.array\n",
        "ids.shape"
      ],
      "metadata": {
        "colab": {
          "base_uri": "https://localhost:8080/"
        },
        "id": "1eld0x6JFGPI",
        "outputId": "25404fdb-e445-488a-aaa0-6af82e0cff1e"
      },
      "execution_count": null,
      "outputs": [
        {
          "output_type": "execute_result",
          "data": {
            "text/plain": [
              "(10000,)"
            ]
          },
          "metadata": {},
          "execution_count": 106
        }
      ]
    },
    {
      "cell_type": "code",
      "source": [
        "data={'Id':ids,'Predicted':predictions}\n",
        "df3=pd.DataFrame(data)"
      ],
      "metadata": {
        "id": "qk0ND4VuFRl2"
      },
      "execution_count": null,
      "outputs": []
    },
    {
      "cell_type": "code",
      "source": [
        "df3.to_csv('Final.csv')"
      ],
      "metadata": {
        "id": "Y4eOKdPXFi7D"
      },
      "execution_count": null,
      "outputs": []
    },
    {
      "cell_type": "code",
      "source": [
        "print(history.history.keys())\n",
        "# \"Loss\"\n",
        "plt.plot(history.history['loss'])\n",
        "# plt.plot(history.history['val_loss'])\n",
        "plt.title('model loss')\n",
        "plt.ylabel('loss')\n",
        "plt.xlabel('epoch')\n",
        "plt.legend(['train', 'validation'], loc='upper left')\n",
        "plt.show()"
      ],
      "metadata": {
        "colab": {
          "base_uri": "https://localhost:8080/",
          "height": 313
        },
        "id": "IfpmKUah-Xg8",
        "outputId": "87a7c60a-658a-4207-b6e0-13e895053963"
      },
      "execution_count": null,
      "outputs": [
        {
          "output_type": "stream",
          "name": "stdout",
          "text": [
            "dict_keys(['loss', 'mse', 'mae'])\n"
          ]
        },
        {
          "output_type": "display_data",
          "data": {
            "text/plain": [
              "<Figure size 432x288 with 1 Axes>"
            ],
            "image/png": "[encoded data removed]"
          },
          "metadata": {
            "needs_background": "light"
          }
        }
      ]
    },
    {
      "cell_type": "code",
      "source": [
        ""
      ],
      "metadata": {
        "id": "qTlsDNWHA_I4"
      },
      "execution_count": null,
      "outputs": []
    },
    {
      "cell_type": "code",
      "source": [
        ""
      ],
      "metadata": {
        "id": "CZ8qfIwiXXEa"
      },
      "execution_count": null,
      "outputs": []
    }
  ]
}