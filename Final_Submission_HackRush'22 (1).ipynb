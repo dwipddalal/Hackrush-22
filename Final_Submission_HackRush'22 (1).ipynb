{
  "nbformat": 4,
  "nbformat_minor": 0,
  "metadata": {
    "colab": {
      "name": "Final_Submission_HackRush'22.ipynb",
      "provenance": [],
      "collapsed_sections": []
    },
    "kernelspec": {
      "name": "python3",
      "display_name": "Python 3"
    },
    "language_info": {
      "name": "python"
    },
    "accelerator": "GPU"
  },
  "cells": [
    {
      "cell_type": "code",
      "execution_count": null,
      "metadata": {
        "colab": {
          "base_uri": "https://localhost:8080/"
        },
        "id": "iUFijN_X3ztj",
        "outputId": "e32f6633-e152-4add-f4b1-ed7bf79dfecf"
      },
      "outputs": [
        {
          "output_type": "stream",
          "name": "stdout",
          "text": [
            "   Id       Timestep   Course                Faculty  Expected\n",
            "0   0  AY1810-AY1811  VX27870      Prof. Jadon Haney       386\n",
            "1   1  AY1810-AY1811  SN11041  Prof. Kennedy Shields       158\n",
            "2   2  AY1810-AY1811  CG17623    Prof. Brandon Silva       303\n",
            "3   3  AY1810-AY1811  GW27856      Prof. Lorena Mays       207\n",
            "4   4  AY1810-AY1811  SI10212   Prof. Haleigh Romero       329\n"
          ]
        }
      ],
      "source": [
        "\n",
        "from google.colab import drive\n",
        "drive.mount('/content/drive')import pandas as pd\n",
        "\n",
        "\n",
        "df = pd.read_csv('/content/drive/Shareddrives/hack22/hack22/train.csv')\n",
        "df_2 = pd.read_csv('/content/drive/Shareddrives/hack22/hack22/test.csv')\n",
        "print(df.head())"
      ]
    },
    {
      "cell_type": "code",
      "source": [
        ""
      ],
      "metadata": {
        "id": "DU3tm1tejOkH"
      },
      "execution_count": null,
      "outputs": []
    },
    {
      "cell_type": "code",
      "source": [
        "len(df.Course.unique())\n",
        "# Courses=656, Timestep=177, Faculty=560, "
      ],
      "metadata": {
        "colab": {
          "base_uri": "https://localhost:8080/"
        },
        "id": "a4LRcRIX5ZQ8",
        "outputId": "9410d564-62ec-4156-af6c-46134f6107c2"
      },
      "execution_count": null,
      "outputs": [
        {
          "output_type": "execute_result",
          "data": {
            "text/plain": [
              "656"
            ]
          },
          "metadata": {},
          "execution_count": 97
        }
      ]
    },
    {
      "cell_type": "code",
      "source": [
        "len(df.Timestep.unique())"
      ],
      "metadata": {
        "colab": {
          "base_uri": "https://localhost:8080/"
        },
        "id": "PcSEwUnr6vCI",
        "outputId": "28fb23a5-1353-479e-b38e-92fa4dfbb4db"
      },
      "execution_count": null,
      "outputs": [
        {
          "output_type": "execute_result",
          "data": {
            "text/plain": [
              "177"
            ]
          },
          "metadata": {},
          "execution_count": 98
        }
      ]
    },
    {
      "cell_type": "code",
      "source": [
        "len(df.Faculty.unique())"
      ],
      "metadata": {
        "colab": {
          "base_uri": "https://localhost:8080/"
        },
        "id": "x4w5sYsh62O1",
        "outputId": "a5e1a56f-1e87-4569-876a-56ae6d04b03b"
      },
      "execution_count": null,
      "outputs": [
        {
          "output_type": "execute_result",
          "data": {
            "text/plain": [
              "560"
            ]
          },
          "metadata": {},
          "execution_count": 99
        }
      ]
    },
    {
      "cell_type": "code",
      "source": [
        "len(df.Expected.unique())"
      ],
      "metadata": {
        "colab": {
          "base_uri": "https://localhost:8080/"
        },
        "id": "PEPp-03u7ISU",
        "outputId": "41a5d5de-c0f0-4dae-e113-9ccde17c5446"
      },
      "execution_count": null,
      "outputs": [
        {
          "output_type": "execute_result",
          "data": {
            "text/plain": [
              "1320"
            ]
          },
          "metadata": {},
          "execution_count": 100
        }
      ]
    },
    {
      "cell_type": "code",
      "source": [
        "df['Id'].value_counts()"
      ],
      "metadata": {
        "colab": {
          "base_uri": "https://localhost:8080/"
        },
        "id": "IhocavWt7tg6",
        "outputId": "69d32f02-761a-435e-99cf-a405a13adba2"
      },
      "execution_count": null,
      "outputs": [
        {
          "output_type": "execute_result",
          "data": {
            "text/plain": [
              "0        1\n",
              "59997    1\n",
              "60005    1\n",
              "60004    1\n",
              "60003    1\n",
              "        ..\n",
              "29998    1\n",
              "29997    1\n",
              "29996    1\n",
              "29995    1\n",
              "89999    1\n",
              "Name: Id, Length: 90000, dtype: int64"
            ]
          },
          "metadata": {},
          "execution_count": 101
        }
      ]
    },
    {
      "cell_type": "code",
      "source": [
        "df.plot(x='Timestep', y='Expected')"
      ],
      "metadata": {
        "colab": {
          "base_uri": "https://localhost:8080/",
          "height": 296
        },
        "id": "znPadIKh_T3W",
        "outputId": "034f1f00-d9c0-45bb-f7e3-abc35c8be0fc"
      },
      "execution_count": null,
      "outputs": [
        {
          "output_type": "execute_result",
          "data": {
            "text/plain": [
              "<matplotlib.axes._subplots.AxesSubplot at 0x7f7f35147790>"
            ]
          },
          "metadata": {},
          "execution_count": 102
        },
        {
          "output_type": "display_data",
          "data": {
            "text/plain": [
              "<Figure size 432x288 with 1 Axes>"
            ],
            "image/png": "[encoded data removed]"
          },
          "metadata": {
            "needs_background": "light"
          }
        }
      ]
    },
    {
      "cell_type": "code",
      "source": [
        "X_train=df['Timestep']\n",
        "Y_train=df['Expected']\n",
        "X_test=df_2['Timestep']\n",
        "X_new=[None]*90000\n",
        "X_test_new=[None]*10000\n",
        "Y_without_one=[None]*90000\n"
      ],
      "metadata": {
        "id": "jEY5HGYCBHY7"
      },
      "execution_count": null,
      "outputs": []
    },
    {
      "cell_type": "code",
      "source": [
        "for i in range(len(X_train)):\n",
        "  X_new[i]=int(X_train[i][2:6])\n",
        "for i in range(len(X_test)):\n",
        "  X_test_new[i]=int(X_test[i][2:6])\n",
        "# for i in range(len(Y)):\n",
        "#   if Y[i]<=2:\n",
        "#     Y_without_one[i]=3\n",
        "#   else:\n",
        "#     Y_without_one[i]=Y[i]\n",
        "# Y_without_one_train=Y_without_one[:81000]\n",
        "# Y_without_one_test=Y_without_one[81000:]"
      ],
      "metadata": {
        "id": "q0f2sLOpB_Af"
      },
      "execution_count": null,
      "outputs": []
    },
    {
      "cell_type": "code",
      "source": [
        "df['new_timestep']=X_new\n",
        "df_2['new_timestep']=X_test_new"
      ],
      "metadata": {
        "id": "BH1J8O9kCMS_"
      },
      "execution_count": null,
      "outputs": []
    },
    {
      "cell_type": "code",
      "source": [
        "import numpy as np\n",
        "mean=np.mean(X_new)\n",
        "sd=np.std(X_new)\n",
        "X_normalized=[None]*90000\n",
        "X_normalized_test=[None]*10000\n",
        "for i in range(len(X_new)):\n",
        "  X_normalized[i]=(X_new[i]-mean)/(sd)\n",
        "for i in range(len(X_test_new)):\n",
        "  X_normalized_test[i]=(X_test_new[i]-mean)/(sd)\n",
        "\n",
        "\n"
      ],
      "metadata": {
        "id": "FDghgaY9F3Vf"
      },
      "execution_count": null,
      "outputs": []
    },
    {
      "cell_type": "markdown",
      "source": [
        "Normalization of train\n"
      ],
      "metadata": {
        "id": "PUAS-SIxPbUm"
      }
    },
    {
      "cell_type": "code",
      "source": [
        "df['norm_time']=X_normalized\n",
        "df_2['norm_time']=X_normalized_test"
      ],
      "metadata": {
        "id": "OBbIMOVlJJ8o"
      },
      "execution_count": null,
      "outputs": []
    },
    {
      "cell_type": "code",
      "source": [
        "X_normalized_train=np.asarray(X_normalized)\n",
        "X_normalized_test=np.asarray(X_normalized_test)\n",
        "# X_normalized_train=X_normalized_array[:81000]\n",
        "# X_normalized_test=X_normalized_array[81000:]"
      ],
      "metadata": {
        "id": "LTzt--ynN2WJ"
      },
      "execution_count": null,
      "outputs": []
    },
    {
      "cell_type": "code",
      "source": [
        "X_normalized_train.resize(90000,1)\n",
        "X_normalized_test.resize(10000,1)"
      ],
      "metadata": {
        "id": "jCwUG4WsOq1w"
      },
      "execution_count": null,
      "outputs": []
    },
    {
      "cell_type": "code",
      "source": [
        "X_new=df['new_timestep']\n",
        "df.tail()\n",
        "from sklearn.preprocessing import LabelBinarizer\n",
        "le=LabelBinarizer()\n",
        "X_Course_train = le.fit_transform(df.Course)\n",
        "X_Course_test = le.transform(df_2.Course)\n",
        "from sklearn.preprocessing import LabelBinarizer\n",
        "le2=LabelBinarizer()\n",
        "X_Faculty_train = le2.fit_transform(df.Faculty)\n",
        "X_Faculty_test = le2.transform(df_2.Faculty)"
      ],
      "metadata": {
        "id": "0RPvi5pVF29k"
      },
      "execution_count": null,
      "outputs": []
    },
    {
      "cell_type": "code",
      "source": [
        "\n",
        "\n",
        "\n",
        "\n",
        "import numpy as np\n",
        "  \n",
        "arr1 = np.array(X_Course_train)\n",
        "arr2 = np.array(X_Faculty_train)\n",
        "arr3 = np.array(X_normalized_train)\n",
        "  \n",
        "X_combined_train = np.concatenate((arr1, arr2), axis = 1)\n",
        "for i in range(5):\n",
        "  X_combined_train=np.concatenate((arr3,X_combined_train,arr3),axis=1)\n",
        "\n",
        "ar1 = np.array(X_Course_test)\n",
        "ar2 = np.array(X_Faculty_test)\n",
        "ar3 = np.array(X_normalized_test)\n",
        "  \n",
        "X_combined_test = np.concatenate((ar1, ar2), axis = 1)\n",
        "for i in range(5):\n",
        "  X_combined_test=np.concatenate((ar3,X_combined_test,ar3),axis=1)"
      ],
      "metadata": {
        "id": "NAYS3dJbudgG"
      },
      "execution_count": null,
      "outputs": []
    },
    {
      "cell_type": "code",
      "source": [
        "\n",
        "\n"
      ],
      "metadata": {
        "id": "lL6rYstbRL3r"
      },
      "execution_count": null,
      "outputs": []
    },
    {
      "cell_type": "code",
      "source": [
        "from sklearn.linear_model import LinearRegression\n",
        "from sklearn import linear_model\n",
        "from sklearn.metrics import mean_squared_error\n",
        "from sklearn.linear_model import SGDRegressor\n",
        "from sklearn.pipeline import make_pipeline\n",
        "from sklearn.preprocessing import StandardScaler\n",
        "from sklearn.neural_network import MLPRegressor\n",
        "from sklearn.ensemble import VotingRegressor\n",
        "ren = MLPRegressor(random_state=1, max_iter=500)\n",
        "# model = LinearRegression()\n",
        "clf = linear_model.Lasso(alpha=0.01,)\n",
        "lin = LinearRegression()\n",
        "rig = linear_model.Ridge(alpha=1.0,)\n",
        "reg = make_pipeline(StandardScaler(),SGDRegressor(max_iter=1000, tol=1e-3,loss='squared_error'))\n",
        "\n",
        "eclf1 = VotingRegressor(estimators=[\n",
        "        ('sgd',reg),('lin',lin)],)\n",
        "eclf11 = eclf1.fit(X_combined_train[84000:] ,Y_train[84000:])\n",
        "\n",
        "\n",
        "y_pred=eclf11.predict(X_combined_test)\n"
      ],
      "metadata": {
        "id": "PjUH_cskiT6m"
      },
      "execution_count": null,
      "outputs": []
    },
    {
      "cell_type": "code",
      "source": [
        "y_pred\n",
        "import pickle\n",
        "filename = 'soft3.sav'\n",
        "pickle.dump(eclf11, open(filename, 'wb'))"
      ],
      "metadata": {
        "id": "YcAe9749yTax"
      },
      "execution_count": null,
      "outputs": []
    },
    {
      "cell_type": "code",
      "source": [
        "y_pred.resize(10000,)\n",
        "y_pred.shape"
      ],
      "metadata": {
        "colab": {
          "base_uri": "https://localhost:8080/"
        },
        "id": "uWR8ZiaR0-fc",
        "outputId": "6f9d1eab-0779-4210-8134-b9ddf41a8416"
      },
      "execution_count": null,
      "outputs": [
        {
          "output_type": "execute_result",
          "data": {
            "text/plain": [
              "(10000,)"
            ]
          },
          "metadata": {},
          "execution_count": 71
        }
      ]
    },
    {
      "cell_type": "code",
      "source": [
        "\n",
        "ids=df_2['Id']\n",
        "ids=ids.array\n",
        "ids.shape"
      ],
      "metadata": {
        "colab": {
          "base_uri": "https://localhost:8080/"
        },
        "id": "C2LZhfFyy8eP",
        "outputId": "6fbeaf52-2c89-4a35-a7bd-d1d58ab3f078"
      },
      "execution_count": null,
      "outputs": [
        {
          "output_type": "execute_result",
          "data": {
            "text/plain": [
              "(10000,)"
            ]
          },
          "metadata": {},
          "execution_count": 72
        }
      ]
    },
    {
      "cell_type": "code",
      "source": [
        "data={'Id':ids,'Predicted':y_pred}\n",
        "df3=pd.DataFrame(data)"
      ],
      "metadata": {
        "id": "x2r5ehca0Wk0"
      },
      "execution_count": null,
      "outputs": []
    },
    {
      "cell_type": "code",
      "source": [
        "df3.head\n"
      ],
      "metadata": {
        "id": "rnfo1IdnzNwu",
        "colab": {
          "base_uri": "https://localhost:8080/"
        },
        "outputId": "72504c98-f291-4bf7-89f8-8c6c3501bf66"
      },
      "execution_count": null,
      "outputs": [
        {
          "output_type": "execute_result",
          "data": {
            "text/plain": [
              "<bound method NDFrame.head of         Id    Predicted\n",
              "0        0   744.403196\n",
              "1        1   424.026473\n",
              "2        2   567.561745\n",
              "3        3   412.568686\n",
              "4        4  1035.271940\n",
              "...    ...          ...\n",
              "9995  9995  1050.505421\n",
              "9996  9996   974.975444\n",
              "9997  9997   499.308688\n",
              "9998  9998   766.464298\n",
              "9999  9999   426.010782\n",
              "\n",
              "[10000 rows x 2 columns]>"
            ]
          },
          "metadata": {},
          "execution_count": 74
        }
      ]
    },
    {
      "cell_type": "code",
      "source": [
        "df3.to_csv('Lin_soft2.csv')"
      ],
      "metadata": {
        "id": "KOO1sWIVhwbE"
      },
      "execution_count": null,
      "outputs": []
    },
    {
      "cell_type": "code",
      "source": [
        ""
      ],
      "metadata": {
        "id": "HIFCXo1PeJd3"
      },
      "execution_count": null,
      "outputs": []
    },
    {
      "cell_type": "code",
      "source": [
        "# from sklearn.ensemble import RandomForestClassifier\n",
        "# model2 = RandomForestClassifier(max_depth=2, random_state=0)\n",
        "# model2 = model2.fit(X_combined_train , Y_train_array)"
      ],
      "metadata": {
        "id": "s4FVik_H0jM-"
      },
      "execution_count": null,
      "outputs": []
    },
    {
      "cell_type": "code",
      "source": [
        "# y_pred2=model2.predict(X_combined_test)"
      ],
      "metadata": {
        "id": "4QYSkfLh08XC"
      },
      "execution_count": null,
      "outputs": []
    },
    {
      "cell_type": "code",
      "source": [
        "# mean_squared_error(Y_test_array, y_pred2,squared=False)"
      ],
      "metadata": {
        "id": "7X4l6Pib1Adf"
      },
      "execution_count": null,
      "outputs": []
    },
    {
      "cell_type": "code",
      "source": [
        "# from sklearn.ensemble import RandomForestRegressor\n",
        "# model3 = RandomForestRegressor(max_depth=4, random_state=0,)\n",
        "# model3=model3.fit(X_combined_train[60000:],Y_train_array[60000:])\n",
        "# y_pred3=model3.predict(X_combined_test[:100])\n",
        "# mean_squared_error(Y_test_array[:100], y_pred3, squared=False)"
      ],
      "metadata": {
        "id": "psJOipXH3J1N"
      },
      "execution_count": null,
      "outputs": []
    },
    {
      "cell_type": "code",
      "source": [
        ""
      ],
      "metadata": {
        "id": "FITwPUHTRR84"
      },
      "execution_count": null,
      "outputs": []
    },
    {
      "cell_type": "code",
      "source": [
        ""
      ],
      "metadata": {
        "id": "CZ8qfIwiXXEa"
      },
      "execution_count": null,
      "outputs": []
    }
  ]
}